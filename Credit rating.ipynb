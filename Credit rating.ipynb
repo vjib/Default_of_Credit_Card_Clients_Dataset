{
 "cells": [
  {
   "cell_type": "code",
   "execution_count": 1,
   "metadata": {},
   "outputs": [],
   "source": [
    "import pandas as pd\n",
    "import datetime\n",
    "import numpy as np\n",
    "import math\n",
    "import matplotlib.pyplot as plt\n",
    "import matplotlib.ticker as mtick\n",
    "from numpy.polynomial.polynomial import polyfit\n",
    "import random as rd\n",
    "import time\n",
    "\n",
    "from sklearn.metrics import precision_score\n",
    "from sklearn.metrics import recall_score\n",
    "from sklearn.metrics import f1_score"
   ]
  },
  {
   "cell_type": "code",
   "execution_count": 2,
   "metadata": {},
   "outputs": [],
   "source": [
    "file_url=\"UCI_Credit_Card.csv\"\n",
    "\n",
    "df_credit=pd.read_csv(file_url)"
   ]
  },
  {
   "cell_type": "code",
   "execution_count": 3,
   "metadata": {},
   "outputs": [
    {
     "data": {
      "text/html": [
       "<div>\n",
       "<style scoped>\n",
       "    .dataframe tbody tr th:only-of-type {\n",
       "        vertical-align: middle;\n",
       "    }\n",
       "\n",
       "    .dataframe tbody tr th {\n",
       "        vertical-align: top;\n",
       "    }\n",
       "\n",
       "    .dataframe thead th {\n",
       "        text-align: right;\n",
       "    }\n",
       "</style>\n",
       "<table border=\"1\" class=\"dataframe\">\n",
       "  <thead>\n",
       "    <tr style=\"text-align: right;\">\n",
       "      <th></th>\n",
       "      <th>ID</th>\n",
       "      <th>LIMIT_BAL</th>\n",
       "      <th>SEX</th>\n",
       "      <th>EDUCATION</th>\n",
       "      <th>MARRIAGE</th>\n",
       "      <th>AGE</th>\n",
       "      <th>PAY_0</th>\n",
       "      <th>PAY_2</th>\n",
       "      <th>PAY_3</th>\n",
       "      <th>PAY_4</th>\n",
       "      <th>...</th>\n",
       "      <th>BILL_AMT4</th>\n",
       "      <th>BILL_AMT5</th>\n",
       "      <th>BILL_AMT6</th>\n",
       "      <th>PAY_AMT1</th>\n",
       "      <th>PAY_AMT2</th>\n",
       "      <th>PAY_AMT3</th>\n",
       "      <th>PAY_AMT4</th>\n",
       "      <th>PAY_AMT5</th>\n",
       "      <th>PAY_AMT6</th>\n",
       "      <th>default.payment.next.month</th>\n",
       "    </tr>\n",
       "  </thead>\n",
       "  <tbody>\n",
       "    <tr>\n",
       "      <th>0</th>\n",
       "      <td>1</td>\n",
       "      <td>20000.0</td>\n",
       "      <td>2</td>\n",
       "      <td>2</td>\n",
       "      <td>1</td>\n",
       "      <td>24</td>\n",
       "      <td>2</td>\n",
       "      <td>2</td>\n",
       "      <td>-1</td>\n",
       "      <td>-1</td>\n",
       "      <td>...</td>\n",
       "      <td>0.0</td>\n",
       "      <td>0.0</td>\n",
       "      <td>0.0</td>\n",
       "      <td>0.0</td>\n",
       "      <td>689.0</td>\n",
       "      <td>0.0</td>\n",
       "      <td>0.0</td>\n",
       "      <td>0.0</td>\n",
       "      <td>0.0</td>\n",
       "      <td>1</td>\n",
       "    </tr>\n",
       "    <tr>\n",
       "      <th>1</th>\n",
       "      <td>2</td>\n",
       "      <td>120000.0</td>\n",
       "      <td>2</td>\n",
       "      <td>2</td>\n",
       "      <td>2</td>\n",
       "      <td>26</td>\n",
       "      <td>-1</td>\n",
       "      <td>2</td>\n",
       "      <td>0</td>\n",
       "      <td>0</td>\n",
       "      <td>...</td>\n",
       "      <td>3272.0</td>\n",
       "      <td>3455.0</td>\n",
       "      <td>3261.0</td>\n",
       "      <td>0.0</td>\n",
       "      <td>1000.0</td>\n",
       "      <td>1000.0</td>\n",
       "      <td>1000.0</td>\n",
       "      <td>0.0</td>\n",
       "      <td>2000.0</td>\n",
       "      <td>1</td>\n",
       "    </tr>\n",
       "    <tr>\n",
       "      <th>2</th>\n",
       "      <td>3</td>\n",
       "      <td>90000.0</td>\n",
       "      <td>2</td>\n",
       "      <td>2</td>\n",
       "      <td>2</td>\n",
       "      <td>34</td>\n",
       "      <td>0</td>\n",
       "      <td>0</td>\n",
       "      <td>0</td>\n",
       "      <td>0</td>\n",
       "      <td>...</td>\n",
       "      <td>14331.0</td>\n",
       "      <td>14948.0</td>\n",
       "      <td>15549.0</td>\n",
       "      <td>1518.0</td>\n",
       "      <td>1500.0</td>\n",
       "      <td>1000.0</td>\n",
       "      <td>1000.0</td>\n",
       "      <td>1000.0</td>\n",
       "      <td>5000.0</td>\n",
       "      <td>0</td>\n",
       "    </tr>\n",
       "    <tr>\n",
       "      <th>3</th>\n",
       "      <td>4</td>\n",
       "      <td>50000.0</td>\n",
       "      <td>2</td>\n",
       "      <td>2</td>\n",
       "      <td>1</td>\n",
       "      <td>37</td>\n",
       "      <td>0</td>\n",
       "      <td>0</td>\n",
       "      <td>0</td>\n",
       "      <td>0</td>\n",
       "      <td>...</td>\n",
       "      <td>28314.0</td>\n",
       "      <td>28959.0</td>\n",
       "      <td>29547.0</td>\n",
       "      <td>2000.0</td>\n",
       "      <td>2019.0</td>\n",
       "      <td>1200.0</td>\n",
       "      <td>1100.0</td>\n",
       "      <td>1069.0</td>\n",
       "      <td>1000.0</td>\n",
       "      <td>0</td>\n",
       "    </tr>\n",
       "    <tr>\n",
       "      <th>4</th>\n",
       "      <td>5</td>\n",
       "      <td>50000.0</td>\n",
       "      <td>1</td>\n",
       "      <td>2</td>\n",
       "      <td>1</td>\n",
       "      <td>57</td>\n",
       "      <td>-1</td>\n",
       "      <td>0</td>\n",
       "      <td>-1</td>\n",
       "      <td>0</td>\n",
       "      <td>...</td>\n",
       "      <td>20940.0</td>\n",
       "      <td>19146.0</td>\n",
       "      <td>19131.0</td>\n",
       "      <td>2000.0</td>\n",
       "      <td>36681.0</td>\n",
       "      <td>10000.0</td>\n",
       "      <td>9000.0</td>\n",
       "      <td>689.0</td>\n",
       "      <td>679.0</td>\n",
       "      <td>0</td>\n",
       "    </tr>\n",
       "  </tbody>\n",
       "</table>\n",
       "<p>5 rows × 25 columns</p>\n",
       "</div>"
      ],
      "text/plain": [
       "   ID  LIMIT_BAL  SEX  EDUCATION  MARRIAGE  AGE  PAY_0  PAY_2  PAY_3  PAY_4  \\\n",
       "0   1    20000.0    2          2         1   24      2      2     -1     -1   \n",
       "1   2   120000.0    2          2         2   26     -1      2      0      0   \n",
       "2   3    90000.0    2          2         2   34      0      0      0      0   \n",
       "3   4    50000.0    2          2         1   37      0      0      0      0   \n",
       "4   5    50000.0    1          2         1   57     -1      0     -1      0   \n",
       "\n",
       "              ...              BILL_AMT4  BILL_AMT5  BILL_AMT6  PAY_AMT1  \\\n",
       "0             ...                    0.0        0.0        0.0       0.0   \n",
       "1             ...                 3272.0     3455.0     3261.0       0.0   \n",
       "2             ...                14331.0    14948.0    15549.0    1518.0   \n",
       "3             ...                28314.0    28959.0    29547.0    2000.0   \n",
       "4             ...                20940.0    19146.0    19131.0    2000.0   \n",
       "\n",
       "   PAY_AMT2  PAY_AMT3  PAY_AMT4  PAY_AMT5  PAY_AMT6  \\\n",
       "0     689.0       0.0       0.0       0.0       0.0   \n",
       "1    1000.0    1000.0    1000.0       0.0    2000.0   \n",
       "2    1500.0    1000.0    1000.0    1000.0    5000.0   \n",
       "3    2019.0    1200.0    1100.0    1069.0    1000.0   \n",
       "4   36681.0   10000.0    9000.0     689.0     679.0   \n",
       "\n",
       "   default.payment.next.month  \n",
       "0                           1  \n",
       "1                           1  \n",
       "2                           0  \n",
       "3                           0  \n",
       "4                           0  \n",
       "\n",
       "[5 rows x 25 columns]"
      ]
     },
     "execution_count": 3,
     "metadata": {},
     "output_type": "execute_result"
    }
   ],
   "source": [
    "df_credit.head()"
   ]
  },
  {
   "cell_type": "code",
   "execution_count": 8,
   "metadata": {},
   "outputs": [
    {
     "data": {
      "text/html": [
       "<div>\n",
       "<style scoped>\n",
       "    .dataframe tbody tr th:only-of-type {\n",
       "        vertical-align: middle;\n",
       "    }\n",
       "\n",
       "    .dataframe tbody tr th {\n",
       "        vertical-align: top;\n",
       "    }\n",
       "\n",
       "    .dataframe thead th {\n",
       "        text-align: right;\n",
       "    }\n",
       "</style>\n",
       "<table border=\"1\" class=\"dataframe\">\n",
       "  <thead>\n",
       "    <tr style=\"text-align: right;\">\n",
       "      <th></th>\n",
       "      <th>ID</th>\n",
       "      <th>LIMIT_BAL</th>\n",
       "      <th>EDUCATION</th>\n",
       "      <th>MARRIAGE</th>\n",
       "      <th>AGE</th>\n",
       "      <th>PAY_0</th>\n",
       "      <th>PAY_2</th>\n",
       "      <th>PAY_3</th>\n",
       "      <th>PAY_4</th>\n",
       "      <th>PAY_5</th>\n",
       "      <th>...</th>\n",
       "      <th>BILL_AMT4</th>\n",
       "      <th>BILL_AMT5</th>\n",
       "      <th>BILL_AMT6</th>\n",
       "      <th>PAY_AMT1</th>\n",
       "      <th>PAY_AMT2</th>\n",
       "      <th>PAY_AMT3</th>\n",
       "      <th>PAY_AMT4</th>\n",
       "      <th>PAY_AMT5</th>\n",
       "      <th>PAY_AMT6</th>\n",
       "      <th>default.payment.next.month</th>\n",
       "    </tr>\n",
       "    <tr>\n",
       "      <th>SEX</th>\n",
       "      <th></th>\n",
       "      <th></th>\n",
       "      <th></th>\n",
       "      <th></th>\n",
       "      <th></th>\n",
       "      <th></th>\n",
       "      <th></th>\n",
       "      <th></th>\n",
       "      <th></th>\n",
       "      <th></th>\n",
       "      <th></th>\n",
       "      <th></th>\n",
       "      <th></th>\n",
       "      <th></th>\n",
       "      <th></th>\n",
       "      <th></th>\n",
       "      <th></th>\n",
       "      <th></th>\n",
       "      <th></th>\n",
       "      <th></th>\n",
       "      <th></th>\n",
       "    </tr>\n",
       "  </thead>\n",
       "  <tbody>\n",
       "    <tr>\n",
       "      <th>1</th>\n",
       "      <td>11888</td>\n",
       "      <td>11888</td>\n",
       "      <td>11888</td>\n",
       "      <td>11888</td>\n",
       "      <td>11888</td>\n",
       "      <td>11888</td>\n",
       "      <td>11888</td>\n",
       "      <td>11888</td>\n",
       "      <td>11888</td>\n",
       "      <td>11888</td>\n",
       "      <td>...</td>\n",
       "      <td>11888</td>\n",
       "      <td>11888</td>\n",
       "      <td>11888</td>\n",
       "      <td>11888</td>\n",
       "      <td>11888</td>\n",
       "      <td>11888</td>\n",
       "      <td>11888</td>\n",
       "      <td>11888</td>\n",
       "      <td>11888</td>\n",
       "      <td>11888</td>\n",
       "    </tr>\n",
       "    <tr>\n",
       "      <th>2</th>\n",
       "      <td>18112</td>\n",
       "      <td>18112</td>\n",
       "      <td>18112</td>\n",
       "      <td>18112</td>\n",
       "      <td>18112</td>\n",
       "      <td>18112</td>\n",
       "      <td>18112</td>\n",
       "      <td>18112</td>\n",
       "      <td>18112</td>\n",
       "      <td>18112</td>\n",
       "      <td>...</td>\n",
       "      <td>18112</td>\n",
       "      <td>18112</td>\n",
       "      <td>18112</td>\n",
       "      <td>18112</td>\n",
       "      <td>18112</td>\n",
       "      <td>18112</td>\n",
       "      <td>18112</td>\n",
       "      <td>18112</td>\n",
       "      <td>18112</td>\n",
       "      <td>18112</td>\n",
       "    </tr>\n",
       "  </tbody>\n",
       "</table>\n",
       "<p>2 rows × 24 columns</p>\n",
       "</div>"
      ],
      "text/plain": [
       "        ID  LIMIT_BAL  EDUCATION  MARRIAGE    AGE  PAY_0  PAY_2  PAY_3  PAY_4  \\\n",
       "SEX                                                                             \n",
       "1    11888      11888      11888     11888  11888  11888  11888  11888  11888   \n",
       "2    18112      18112      18112     18112  18112  18112  18112  18112  18112   \n",
       "\n",
       "     PAY_5             ...              BILL_AMT4  BILL_AMT5  BILL_AMT6  \\\n",
       "SEX                    ...                                                \n",
       "1    11888             ...                  11888      11888      11888   \n",
       "2    18112             ...                  18112      18112      18112   \n",
       "\n",
       "     PAY_AMT1  PAY_AMT2  PAY_AMT3  PAY_AMT4  PAY_AMT5  PAY_AMT6  \\\n",
       "SEX                                                               \n",
       "1       11888     11888     11888     11888     11888     11888   \n",
       "2       18112     18112     18112     18112     18112     18112   \n",
       "\n",
       "     default.payment.next.month  \n",
       "SEX                              \n",
       "1                         11888  \n",
       "2                         18112  \n",
       "\n",
       "[2 rows x 24 columns]"
      ]
     },
     "execution_count": 8,
     "metadata": {},
     "output_type": "execute_result"
    }
   ],
   "source": [
    "df_credit.groupby('SEX').count()\n",
    "#1 = male \n",
    "#2 = female"
   ]
  },
  {
   "cell_type": "code",
   "execution_count": 9,
   "metadata": {},
   "outputs": [
    {
     "data": {
      "text/html": [
       "<div>\n",
       "<style scoped>\n",
       "    .dataframe tbody tr th:only-of-type {\n",
       "        vertical-align: middle;\n",
       "    }\n",
       "\n",
       "    .dataframe tbody tr th {\n",
       "        vertical-align: top;\n",
       "    }\n",
       "\n",
       "    .dataframe thead th {\n",
       "        text-align: right;\n",
       "    }\n",
       "</style>\n",
       "<table border=\"1\" class=\"dataframe\">\n",
       "  <thead>\n",
       "    <tr style=\"text-align: right;\">\n",
       "      <th></th>\n",
       "      <th>ID</th>\n",
       "      <th>LIMIT_BAL</th>\n",
       "      <th>SEX</th>\n",
       "      <th>MARRIAGE</th>\n",
       "      <th>AGE</th>\n",
       "      <th>PAY_0</th>\n",
       "      <th>PAY_2</th>\n",
       "      <th>PAY_3</th>\n",
       "      <th>PAY_4</th>\n",
       "      <th>PAY_5</th>\n",
       "      <th>...</th>\n",
       "      <th>BILL_AMT4</th>\n",
       "      <th>BILL_AMT5</th>\n",
       "      <th>BILL_AMT6</th>\n",
       "      <th>PAY_AMT1</th>\n",
       "      <th>PAY_AMT2</th>\n",
       "      <th>PAY_AMT3</th>\n",
       "      <th>PAY_AMT4</th>\n",
       "      <th>PAY_AMT5</th>\n",
       "      <th>PAY_AMT6</th>\n",
       "      <th>default.payment.next.month</th>\n",
       "    </tr>\n",
       "    <tr>\n",
       "      <th>EDUCATION</th>\n",
       "      <th></th>\n",
       "      <th></th>\n",
       "      <th></th>\n",
       "      <th></th>\n",
       "      <th></th>\n",
       "      <th></th>\n",
       "      <th></th>\n",
       "      <th></th>\n",
       "      <th></th>\n",
       "      <th></th>\n",
       "      <th></th>\n",
       "      <th></th>\n",
       "      <th></th>\n",
       "      <th></th>\n",
       "      <th></th>\n",
       "      <th></th>\n",
       "      <th></th>\n",
       "      <th></th>\n",
       "      <th></th>\n",
       "      <th></th>\n",
       "      <th></th>\n",
       "    </tr>\n",
       "  </thead>\n",
       "  <tbody>\n",
       "    <tr>\n",
       "      <th>0</th>\n",
       "      <td>14</td>\n",
       "      <td>14</td>\n",
       "      <td>14</td>\n",
       "      <td>14</td>\n",
       "      <td>14</td>\n",
       "      <td>14</td>\n",
       "      <td>14</td>\n",
       "      <td>14</td>\n",
       "      <td>14</td>\n",
       "      <td>14</td>\n",
       "      <td>...</td>\n",
       "      <td>14</td>\n",
       "      <td>14</td>\n",
       "      <td>14</td>\n",
       "      <td>14</td>\n",
       "      <td>14</td>\n",
       "      <td>14</td>\n",
       "      <td>14</td>\n",
       "      <td>14</td>\n",
       "      <td>14</td>\n",
       "      <td>14</td>\n",
       "    </tr>\n",
       "    <tr>\n",
       "      <th>1</th>\n",
       "      <td>10585</td>\n",
       "      <td>10585</td>\n",
       "      <td>10585</td>\n",
       "      <td>10585</td>\n",
       "      <td>10585</td>\n",
       "      <td>10585</td>\n",
       "      <td>10585</td>\n",
       "      <td>10585</td>\n",
       "      <td>10585</td>\n",
       "      <td>10585</td>\n",
       "      <td>...</td>\n",
       "      <td>10585</td>\n",
       "      <td>10585</td>\n",
       "      <td>10585</td>\n",
       "      <td>10585</td>\n",
       "      <td>10585</td>\n",
       "      <td>10585</td>\n",
       "      <td>10585</td>\n",
       "      <td>10585</td>\n",
       "      <td>10585</td>\n",
       "      <td>10585</td>\n",
       "    </tr>\n",
       "    <tr>\n",
       "      <th>2</th>\n",
       "      <td>14030</td>\n",
       "      <td>14030</td>\n",
       "      <td>14030</td>\n",
       "      <td>14030</td>\n",
       "      <td>14030</td>\n",
       "      <td>14030</td>\n",
       "      <td>14030</td>\n",
       "      <td>14030</td>\n",
       "      <td>14030</td>\n",
       "      <td>14030</td>\n",
       "      <td>...</td>\n",
       "      <td>14030</td>\n",
       "      <td>14030</td>\n",
       "      <td>14030</td>\n",
       "      <td>14030</td>\n",
       "      <td>14030</td>\n",
       "      <td>14030</td>\n",
       "      <td>14030</td>\n",
       "      <td>14030</td>\n",
       "      <td>14030</td>\n",
       "      <td>14030</td>\n",
       "    </tr>\n",
       "    <tr>\n",
       "      <th>3</th>\n",
       "      <td>4917</td>\n",
       "      <td>4917</td>\n",
       "      <td>4917</td>\n",
       "      <td>4917</td>\n",
       "      <td>4917</td>\n",
       "      <td>4917</td>\n",
       "      <td>4917</td>\n",
       "      <td>4917</td>\n",
       "      <td>4917</td>\n",
       "      <td>4917</td>\n",
       "      <td>...</td>\n",
       "      <td>4917</td>\n",
       "      <td>4917</td>\n",
       "      <td>4917</td>\n",
       "      <td>4917</td>\n",
       "      <td>4917</td>\n",
       "      <td>4917</td>\n",
       "      <td>4917</td>\n",
       "      <td>4917</td>\n",
       "      <td>4917</td>\n",
       "      <td>4917</td>\n",
       "    </tr>\n",
       "    <tr>\n",
       "      <th>4</th>\n",
       "      <td>123</td>\n",
       "      <td>123</td>\n",
       "      <td>123</td>\n",
       "      <td>123</td>\n",
       "      <td>123</td>\n",
       "      <td>123</td>\n",
       "      <td>123</td>\n",
       "      <td>123</td>\n",
       "      <td>123</td>\n",
       "      <td>123</td>\n",
       "      <td>...</td>\n",
       "      <td>123</td>\n",
       "      <td>123</td>\n",
       "      <td>123</td>\n",
       "      <td>123</td>\n",
       "      <td>123</td>\n",
       "      <td>123</td>\n",
       "      <td>123</td>\n",
       "      <td>123</td>\n",
       "      <td>123</td>\n",
       "      <td>123</td>\n",
       "    </tr>\n",
       "    <tr>\n",
       "      <th>5</th>\n",
       "      <td>280</td>\n",
       "      <td>280</td>\n",
       "      <td>280</td>\n",
       "      <td>280</td>\n",
       "      <td>280</td>\n",
       "      <td>280</td>\n",
       "      <td>280</td>\n",
       "      <td>280</td>\n",
       "      <td>280</td>\n",
       "      <td>280</td>\n",
       "      <td>...</td>\n",
       "      <td>280</td>\n",
       "      <td>280</td>\n",
       "      <td>280</td>\n",
       "      <td>280</td>\n",
       "      <td>280</td>\n",
       "      <td>280</td>\n",
       "      <td>280</td>\n",
       "      <td>280</td>\n",
       "      <td>280</td>\n",
       "      <td>280</td>\n",
       "    </tr>\n",
       "    <tr>\n",
       "      <th>6</th>\n",
       "      <td>51</td>\n",
       "      <td>51</td>\n",
       "      <td>51</td>\n",
       "      <td>51</td>\n",
       "      <td>51</td>\n",
       "      <td>51</td>\n",
       "      <td>51</td>\n",
       "      <td>51</td>\n",
       "      <td>51</td>\n",
       "      <td>51</td>\n",
       "      <td>...</td>\n",
       "      <td>51</td>\n",
       "      <td>51</td>\n",
       "      <td>51</td>\n",
       "      <td>51</td>\n",
       "      <td>51</td>\n",
       "      <td>51</td>\n",
       "      <td>51</td>\n",
       "      <td>51</td>\n",
       "      <td>51</td>\n",
       "      <td>51</td>\n",
       "    </tr>\n",
       "  </tbody>\n",
       "</table>\n",
       "<p>7 rows × 24 columns</p>\n",
       "</div>"
      ],
      "text/plain": [
       "              ID  LIMIT_BAL    SEX  MARRIAGE    AGE  PAY_0  PAY_2  PAY_3  \\\n",
       "EDUCATION                                                                  \n",
       "0             14         14     14        14     14     14     14     14   \n",
       "1          10585      10585  10585     10585  10585  10585  10585  10585   \n",
       "2          14030      14030  14030     14030  14030  14030  14030  14030   \n",
       "3           4917       4917   4917      4917   4917   4917   4917   4917   \n",
       "4            123        123    123       123    123    123    123    123   \n",
       "5            280        280    280       280    280    280    280    280   \n",
       "6             51         51     51        51     51     51     51     51   \n",
       "\n",
       "           PAY_4  PAY_5             ...              BILL_AMT4  BILL_AMT5  \\\n",
       "EDUCATION                           ...                                     \n",
       "0             14     14             ...                     14         14   \n",
       "1          10585  10585             ...                  10585      10585   \n",
       "2          14030  14030             ...                  14030      14030   \n",
       "3           4917   4917             ...                   4917       4917   \n",
       "4            123    123             ...                    123        123   \n",
       "5            280    280             ...                    280        280   \n",
       "6             51     51             ...                     51         51   \n",
       "\n",
       "           BILL_AMT6  PAY_AMT1  PAY_AMT2  PAY_AMT3  PAY_AMT4  PAY_AMT5  \\\n",
       "EDUCATION                                                                \n",
       "0                 14        14        14        14        14        14   \n",
       "1              10585     10585     10585     10585     10585     10585   \n",
       "2              14030     14030     14030     14030     14030     14030   \n",
       "3               4917      4917      4917      4917      4917      4917   \n",
       "4                123       123       123       123       123       123   \n",
       "5                280       280       280       280       280       280   \n",
       "6                 51        51        51        51        51        51   \n",
       "\n",
       "           PAY_AMT6  default.payment.next.month  \n",
       "EDUCATION                                        \n",
       "0                14                          14  \n",
       "1             10585                       10585  \n",
       "2             14030                       14030  \n",
       "3              4917                        4917  \n",
       "4               123                         123  \n",
       "5               280                         280  \n",
       "6                51                          51  \n",
       "\n",
       "[7 rows x 24 columns]"
      ]
     },
     "execution_count": 9,
     "metadata": {},
     "output_type": "execute_result"
    }
   ],
   "source": [
    "df_credit.groupby('EDUCATION').count()\n",
    "# 0 ???\n",
    "# 1 graduate\n",
    "# 2 university\n",
    "# 3 high school\n",
    "# 4 others\n",
    "# 5 ???\n",
    "# 6 ???"
   ]
  },
  {
   "cell_type": "code",
   "execution_count": 10,
   "metadata": {},
   "outputs": [
    {
     "data": {
      "text/html": [
       "<div>\n",
       "<style scoped>\n",
       "    .dataframe tbody tr th:only-of-type {\n",
       "        vertical-align: middle;\n",
       "    }\n",
       "\n",
       "    .dataframe tbody tr th {\n",
       "        vertical-align: top;\n",
       "    }\n",
       "\n",
       "    .dataframe thead th {\n",
       "        text-align: right;\n",
       "    }\n",
       "</style>\n",
       "<table border=\"1\" class=\"dataframe\">\n",
       "  <thead>\n",
       "    <tr style=\"text-align: right;\">\n",
       "      <th></th>\n",
       "      <th>ID</th>\n",
       "      <th>LIMIT_BAL</th>\n",
       "      <th>SEX</th>\n",
       "      <th>EDUCATION</th>\n",
       "      <th>AGE</th>\n",
       "      <th>PAY_0</th>\n",
       "      <th>PAY_2</th>\n",
       "      <th>PAY_3</th>\n",
       "      <th>PAY_4</th>\n",
       "      <th>PAY_5</th>\n",
       "      <th>...</th>\n",
       "      <th>BILL_AMT4</th>\n",
       "      <th>BILL_AMT5</th>\n",
       "      <th>BILL_AMT6</th>\n",
       "      <th>PAY_AMT1</th>\n",
       "      <th>PAY_AMT2</th>\n",
       "      <th>PAY_AMT3</th>\n",
       "      <th>PAY_AMT4</th>\n",
       "      <th>PAY_AMT5</th>\n",
       "      <th>PAY_AMT6</th>\n",
       "      <th>default.payment.next.month</th>\n",
       "    </tr>\n",
       "    <tr>\n",
       "      <th>MARRIAGE</th>\n",
       "      <th></th>\n",
       "      <th></th>\n",
       "      <th></th>\n",
       "      <th></th>\n",
       "      <th></th>\n",
       "      <th></th>\n",
       "      <th></th>\n",
       "      <th></th>\n",
       "      <th></th>\n",
       "      <th></th>\n",
       "      <th></th>\n",
       "      <th></th>\n",
       "      <th></th>\n",
       "      <th></th>\n",
       "      <th></th>\n",
       "      <th></th>\n",
       "      <th></th>\n",
       "      <th></th>\n",
       "      <th></th>\n",
       "      <th></th>\n",
       "      <th></th>\n",
       "    </tr>\n",
       "  </thead>\n",
       "  <tbody>\n",
       "    <tr>\n",
       "      <th>0</th>\n",
       "      <td>54</td>\n",
       "      <td>54</td>\n",
       "      <td>54</td>\n",
       "      <td>54</td>\n",
       "      <td>54</td>\n",
       "      <td>54</td>\n",
       "      <td>54</td>\n",
       "      <td>54</td>\n",
       "      <td>54</td>\n",
       "      <td>54</td>\n",
       "      <td>...</td>\n",
       "      <td>54</td>\n",
       "      <td>54</td>\n",
       "      <td>54</td>\n",
       "      <td>54</td>\n",
       "      <td>54</td>\n",
       "      <td>54</td>\n",
       "      <td>54</td>\n",
       "      <td>54</td>\n",
       "      <td>54</td>\n",
       "      <td>54</td>\n",
       "    </tr>\n",
       "    <tr>\n",
       "      <th>1</th>\n",
       "      <td>13659</td>\n",
       "      <td>13659</td>\n",
       "      <td>13659</td>\n",
       "      <td>13659</td>\n",
       "      <td>13659</td>\n",
       "      <td>13659</td>\n",
       "      <td>13659</td>\n",
       "      <td>13659</td>\n",
       "      <td>13659</td>\n",
       "      <td>13659</td>\n",
       "      <td>...</td>\n",
       "      <td>13659</td>\n",
       "      <td>13659</td>\n",
       "      <td>13659</td>\n",
       "      <td>13659</td>\n",
       "      <td>13659</td>\n",
       "      <td>13659</td>\n",
       "      <td>13659</td>\n",
       "      <td>13659</td>\n",
       "      <td>13659</td>\n",
       "      <td>13659</td>\n",
       "    </tr>\n",
       "    <tr>\n",
       "      <th>2</th>\n",
       "      <td>15964</td>\n",
       "      <td>15964</td>\n",
       "      <td>15964</td>\n",
       "      <td>15964</td>\n",
       "      <td>15964</td>\n",
       "      <td>15964</td>\n",
       "      <td>15964</td>\n",
       "      <td>15964</td>\n",
       "      <td>15964</td>\n",
       "      <td>15964</td>\n",
       "      <td>...</td>\n",
       "      <td>15964</td>\n",
       "      <td>15964</td>\n",
       "      <td>15964</td>\n",
       "      <td>15964</td>\n",
       "      <td>15964</td>\n",
       "      <td>15964</td>\n",
       "      <td>15964</td>\n",
       "      <td>15964</td>\n",
       "      <td>15964</td>\n",
       "      <td>15964</td>\n",
       "    </tr>\n",
       "    <tr>\n",
       "      <th>3</th>\n",
       "      <td>323</td>\n",
       "      <td>323</td>\n",
       "      <td>323</td>\n",
       "      <td>323</td>\n",
       "      <td>323</td>\n",
       "      <td>323</td>\n",
       "      <td>323</td>\n",
       "      <td>323</td>\n",
       "      <td>323</td>\n",
       "      <td>323</td>\n",
       "      <td>...</td>\n",
       "      <td>323</td>\n",
       "      <td>323</td>\n",
       "      <td>323</td>\n",
       "      <td>323</td>\n",
       "      <td>323</td>\n",
       "      <td>323</td>\n",
       "      <td>323</td>\n",
       "      <td>323</td>\n",
       "      <td>323</td>\n",
       "      <td>323</td>\n",
       "    </tr>\n",
       "  </tbody>\n",
       "</table>\n",
       "<p>4 rows × 24 columns</p>\n",
       "</div>"
      ],
      "text/plain": [
       "             ID  LIMIT_BAL    SEX  EDUCATION    AGE  PAY_0  PAY_2  PAY_3  \\\n",
       "MARRIAGE                                                                   \n",
       "0            54         54     54         54     54     54     54     54   \n",
       "1         13659      13659  13659      13659  13659  13659  13659  13659   \n",
       "2         15964      15964  15964      15964  15964  15964  15964  15964   \n",
       "3           323        323    323        323    323    323    323    323   \n",
       "\n",
       "          PAY_4  PAY_5             ...              BILL_AMT4  BILL_AMT5  \\\n",
       "MARRIAGE                           ...                                     \n",
       "0            54     54             ...                     54         54   \n",
       "1         13659  13659             ...                  13659      13659   \n",
       "2         15964  15964             ...                  15964      15964   \n",
       "3           323    323             ...                    323        323   \n",
       "\n",
       "          BILL_AMT6  PAY_AMT1  PAY_AMT2  PAY_AMT3  PAY_AMT4  PAY_AMT5  \\\n",
       "MARRIAGE                                                                \n",
       "0                54        54        54        54        54        54   \n",
       "1             13659     13659     13659     13659     13659     13659   \n",
       "2             15964     15964     15964     15964     15964     15964   \n",
       "3               323       323       323       323       323       323   \n",
       "\n",
       "          PAY_AMT6  default.payment.next.month  \n",
       "MARRIAGE                                        \n",
       "0               54                          54  \n",
       "1            13659                       13659  \n",
       "2            15964                       15964  \n",
       "3              323                         323  \n",
       "\n",
       "[4 rows x 24 columns]"
      ]
     },
     "execution_count": 10,
     "metadata": {},
     "output_type": "execute_result"
    }
   ],
   "source": [
    "df_credit.groupby('MARRIAGE').count()\n",
    "# 0 ???\n",
    "# 1 married\n",
    "# 2 single\n",
    "# 3 others"
   ]
  },
  {
   "cell_type": "code",
   "execution_count": 4,
   "metadata": {},
   "outputs": [],
   "source": [
    "ageCount={}\n",
    "ageGenderCount={}\n",
    "\n",
    "for index,row in df_credit.iterrows():\n",
    "    age=row['AGE']\n",
    "    gender=row['SEX']\n",
    "    if not age in ageCount:\n",
    "        ageCount[age]=0\n",
    "    ageCount[age]+=1\n",
    "    \n",
    "    if gender==1:\n",
    "        gender='male'\n",
    "    elif gender==2:\n",
    "        gender='female'\n",
    "            \n",
    "    if not gender in ageGenderCount:\n",
    "        ageGenderCount[gender]={}\n",
    "\n",
    "    if not age in ageGenderCount[gender]:\n",
    "        ageGenderCount[gender][age]=0\n",
    "        \n",
    "    ageGenderCount[gender][age]+=1"
   ]
  },
  {
   "cell_type": "code",
   "execution_count": 20,
   "metadata": {},
   "outputs": [
    {
     "data": {
      "text/plain": [
       "Text(0.5, 1.0, 'Demography of clients by age')"
      ]
     },
     "execution_count": 20,
     "metadata": {},
     "output_type": "execute_result"
    },
    {
     "data": {
      "image/png": "[encoded data removed]",
      "text/plain": [
       "<Figure size 432x288 with 1 Axes>"
      ]
     },
     "metadata": {
      "needs_background": "light"
     },
     "output_type": "display_data"
    }
   ],
   "source": [
    "plt.bar(ageCount.keys(),ageCount.values(),color='#999999')\n",
    "ax = plt.subplot()\n",
    "fmt = '{x:,.0f}'\n",
    "tick = mtick.StrMethodFormatter(fmt)\n",
    "ax.yaxis.set_major_formatter(tick)\n",
    "ax.set_xlabel('Age')\n",
    "ax.set_ylabel('# of clients')\n",
    "plt.title('Demography of clients by age')"
   ]
  },
  {
   "cell_type": "code",
   "execution_count": 18,
   "metadata": {},
   "outputs": [
    {
     "data": {
      "text/plain": [
       "Text(0.5, 1.0, 'Demography of Male clients by age')"
      ]
     },
     "execution_count": 18,
     "metadata": {},
     "output_type": "execute_result"
    },
    {
     "data": {
      "image/png": "[encoded data removed]",
      "text/plain": [
       "<Figure size 432x288 with 1 Axes>"
      ]
     },
     "metadata": {
      "needs_background": "light"
     },
     "output_type": "display_data"
    }
   ],
   "source": [
    "plt.bar(ageGenderCount['male'].keys(),ageGenderCount['male'].values(),color='#1E8BC3')\n",
    "ax = plt.subplot()\n",
    "fmt = '{x:,.0f}'\n",
    "tick = mtick.StrMethodFormatter(fmt)\n",
    "ax.yaxis.set_major_formatter(tick)\n",
    "ax.set_xlabel('Age')\n",
    "ax.set_ylabel('# of clients')\n",
    "plt.title('Demography of Male clients by age')"
   ]
  },
  {
   "cell_type": "code",
   "execution_count": 45,
   "metadata": {},
   "outputs": [
    {
     "data": {
      "text/plain": [
       "Text(0.5, 1.0, 'Demography of Female clients by age')"
      ]
     },
     "execution_count": 45,
     "metadata": {},
     "output_type": "execute_result"
    },
    {
     "data": {
      "image/png": "[encoded data removed]",
      "text/plain": [
       "<Figure size 432x288 with 1 Axes>"
      ]
     },
     "metadata": {
      "needs_background": "light"
     },
     "output_type": "display_data"
    }
   ],
   "source": [
    "plt.bar(ageGenderCount['female'].keys(),ageGenderCount['female'].values(),color='#d24d57')\n",
    "ax = plt.subplot()\n",
    "fmt = '{x:,.0f}'\n",
    "tick = mtick.StrMethodFormatter(fmt)\n",
    "ax.yaxis.set_major_formatter(tick)\n",
    "ax.set_xlabel('Age')\n",
    "ax.set_ylabel('# of clients')\n",
    "plt.title('Demography of Female clients by age')"
   ]
  },
  {
   "cell_type": "code",
   "execution_count": 27,
   "metadata": {},
   "outputs": [],
   "source": [
    "ageIfDefaultCount={}\n",
    "ageGenderIfDefaultCount={}\n",
    "\n",
    "for index,row in df_credit.iterrows():\n",
    "    age=row['AGE']\n",
    "    gender=row['SEX']\n",
    "    default=row['default.payment.next.month']\n",
    "    if default==1.0:\n",
    "        if not age in ageIfDefaultCount:\n",
    "            ageIfDefaultCount[age]=0\n",
    "        ageIfDefaultCount[age]+=1\n",
    "\n",
    "        if gender==1:\n",
    "            gender='male'\n",
    "        elif gender==2:\n",
    "            gender='female'\n",
    "\n",
    "        if not gender in ageGenderIfDefaultCount:\n",
    "            ageGenderIfDefaultCount[gender]={}\n",
    "\n",
    "        if not age in ageGenderIfDefaultCount[gender]:\n",
    "            ageGenderIfDefaultCount[gender][age]=0\n",
    "\n",
    "        ageGenderIfDefaultCount[gender][age]+=1"
   ]
  },
  {
   "cell_type": "code",
   "execution_count": 28,
   "metadata": {},
   "outputs": [
    {
     "data": {
      "text/plain": [
       "Text(0.5, 1.0, 'Demography of clients if defaulting by age')"
      ]
     },
     "execution_count": 28,
     "metadata": {},
     "output_type": "execute_result"
    },
    {
     "data": {
      "image/png": "[encoded data removed]",
      "text/plain": [
       "<Figure size 432x288 with 1 Axes>"
      ]
     },
     "metadata": {
      "needs_background": "light"
     },
     "output_type": "display_data"
    }
   ],
   "source": [
    "plt.bar(ageIfDefaultCount.keys(),ageIfDefaultCount.values(),color='#999999')\n",
    "ax = plt.subplot()\n",
    "fmt = '{x:,.0f}'\n",
    "tick = mtick.StrMethodFormatter(fmt)\n",
    "ax.yaxis.set_major_formatter(tick)\n",
    "ax.set_xlabel('Age')\n",
    "ax.set_ylabel('# of clients')\n",
    "plt.title('Demography of clients if defaulting by age')"
   ]
  },
  {
   "cell_type": "code",
   "execution_count": 29,
   "metadata": {},
   "outputs": [
    {
     "data": {
      "text/plain": [
       "Text(0.5, 1.0, 'Demography of Male clients by age')"
      ]
     },
     "execution_count": 29,
     "metadata": {},
     "output_type": "execute_result"
    },
    {
     "data": {
      "image/png": "[encoded data removed]",
      "text/plain": [
       "<Figure size 432x288 with 1 Axes>"
      ]
     },
     "metadata": {
      "needs_background": "light"
     },
     "output_type": "display_data"
    }
   ],
   "source": [
    "plt.bar(ageGenderIfDefaultCount['male'].keys(),ageGenderIfDefaultCount['male'].values(),color='#1E8BC3')\n",
    "ax = plt.subplot()\n",
    "fmt = '{x:,.0f}'\n",
    "tick = mtick.StrMethodFormatter(fmt)\n",
    "ax.yaxis.set_major_formatter(tick)\n",
    "ax.set_xlabel('Age')\n",
    "ax.set_ylabel('# of clients')\n",
    "plt.title('Demography of Male clients by age')"
   ]
  },
  {
   "cell_type": "code",
   "execution_count": 44,
   "metadata": {},
   "outputs": [
    {
     "data": {
      "text/plain": [
       "Text(0.5, 1.0, 'Demography of Female clients by age')"
      ]
     },
     "execution_count": 44,
     "metadata": {},
     "output_type": "execute_result"
    },
    {
     "data": {
      "image/png": "[encoded data removed]",
      "text/plain": [
       "<Figure size 432x288 with 1 Axes>"
      ]
     },
     "metadata": {
      "needs_background": "light"
     },
     "output_type": "display_data"
    }
   ],
   "source": [
    "plt.bar(ageGenderIfDefaultCount['female'].keys(),ageGenderIfDefaultCount['female'].values(),color='#d24d57')\n",
    "ax = plt.subplot()\n",
    "fmt = '{x:,.0f}'\n",
    "tick = mtick.StrMethodFormatter(fmt)\n",
    "ax.yaxis.set_major_formatter(tick)\n",
    "ax.set_xlabel('Age')\n",
    "ax.set_ylabel('# of clients')\n",
    "plt.title('Demography of Female clients by age')"
   ]
  },
  {
   "cell_type": "code",
   "execution_count": 38,
   "metadata": {},
   "outputs": [],
   "source": [
    "defaultRatioAgeCount={}\n",
    "defaultRatioAgeGenderCount={}\n",
    "\n",
    "defaultRatioAgeGenderCount['male']={}\n",
    "defaultRatioAgeGenderCount['female']={}\n",
    "\n",
    "for age,freq in ageCount.items():\n",
    "    \n",
    "    ratio=0.0\n",
    "    \n",
    "    if age in ageIfDefaultCount:\n",
    "        ratio=ageIfDefaultCount[age]/ageCount[age]\n",
    "        \n",
    "        defaultRatioAgeCount[age]=ratio\n",
    "        \n",
    "    ratio=0.0\n",
    "        \n",
    "    if age in ageGenderIfDefaultCount['male']:\n",
    "        \n",
    "        ratio=ageGenderIfDefaultCount['male'][age]/ageGenderCount['male'][age]\n",
    "        \n",
    "        defaultRatioAgeGenderCount['male'][age]=ratio\n",
    "        \n",
    "    ratio=0.0\n",
    "        \n",
    "    if age in ageGenderIfDefaultCount['female']:\n",
    "        \n",
    "        ratio=ageGenderIfDefaultCount['female'][age]/ageGenderCount['female'][age]\n",
    "        \n",
    "        defaultRatioAgeGenderCount['female'][age]=ratio"
   ]
  },
  {
   "cell_type": "code",
   "execution_count": 36,
   "metadata": {},
   "outputs": [
    {
     "data": {
      "text/plain": [
       "Text(0.5, 1.0, 'Default ratio by age')"
      ]
     },
     "execution_count": 36,
     "metadata": {},
     "output_type": "execute_result"
    },
    {
     "data": {
      "image/png": "[encoded data removed]",
      "text/plain": [
       "<Figure size 432x288 with 1 Axes>"
      ]
     },
     "metadata": {
      "needs_background": "light"
     },
     "output_type": "display_data"
    }
   ],
   "source": [
    "plt.bar(defaultRatioAgeCount.keys(),defaultRatioAgeCount.values(),color='#999999')\n",
    "ax = plt.subplot()\n",
    "ax.set_xlabel('Age')\n",
    "ax.set_ylabel('# of clients')\n",
    "plt.title('Default ratio by age')"
   ]
  },
  {
   "cell_type": "code",
   "execution_count": 41,
   "metadata": {},
   "outputs": [
    {
     "data": {
      "text/plain": [
       "Text(0.5, 1.0, 'Demography of Male clients by age')"
      ]
     },
     "execution_count": 41,
     "metadata": {},
     "output_type": "execute_result"
    },
    {
     "data": {
      "image/png": "[encoded data removed]",
      "text/plain": [
       "<Figure size 432x288 with 1 Axes>"
      ]
     },
     "metadata": {
      "needs_background": "light"
     },
     "output_type": "display_data"
    }
   ],
   "source": [
    "plt.bar(defaultRatioAgeGenderCount['male'].keys(),defaultRatioAgeGenderCount['male'].values(),color='#1E8BC3')\n",
    "ax = plt.subplot()\n",
    "ax.set_xlabel('Age')\n",
    "ax.set_ylabel('# of clients')\n",
    "plt.title('Demography of Male clients by age')"
   ]
  },
  {
   "cell_type": "code",
   "execution_count": 43,
   "metadata": {},
   "outputs": [
    {
     "data": {
      "text/plain": [
       "Text(0.5, 1.0, 'Demography of Female clients by age')"
      ]
     },
     "execution_count": 43,
     "metadata": {},
     "output_type": "execute_result"
    },
    {
     "data": {
      "image/png": "[encoded data removed]",
      "text/plain": [
       "<Figure size 432x288 with 1 Axes>"
      ]
     },
     "metadata": {
      "needs_background": "light"
     },
     "output_type": "display_data"
    }
   ],
   "source": [
    "plt.bar(defaultRatioAgeGenderCount['female'].keys(),defaultRatioAgeGenderCount['female'].values(),color='#d24d57')\n",
    "ax = plt.subplot()\n",
    "ax.set_xlabel('Age')\n",
    "ax.set_ylabel('# of clients')\n",
    "plt.title('Demography of Female clients by age')"
   ]
  },
  {
   "cell_type": "code",
   "execution_count": 46,
   "metadata": {},
   "outputs": [],
   "source": [
    "marriageCount={}\n",
    "marriageIfDefaultCount={}\n",
    "\n",
    "for index,row in df_credit.iterrows():\n",
    "\n",
    "    marriage=row['MARRIAGE']\n",
    "    default=row['default.payment.next.month']\n",
    "    \n",
    "    if not marriage in marriageCount:\n",
    "        marriageCount[marriage]=0\n",
    "            \n",
    "    marriageCount[marriage]+=1\n",
    "    \n",
    "    if default==1.0:\n",
    "        if not marriage in marriageIfDefaultCount:\n",
    "            marriageIfDefaultCount[marriage]=0\n",
    "            \n",
    "        marriageIfDefaultCount[marriage]+=1"
   ]
  },
  {
   "cell_type": "code",
   "execution_count": 47,
   "metadata": {},
   "outputs": [
    {
     "data": {
      "text/plain": [
       "{1.0: 0.23471703638626545,\n",
       " 2.0: 0.20928338762214985,\n",
       " 3.0: 0.26006191950464397,\n",
       " 0.0: 0.09259259259259259}"
      ]
     },
     "execution_count": 47,
     "metadata": {},
     "output_type": "execute_result"
    }
   ],
   "source": [
    "defaultRatioMarriageCount={}\n",
    "\n",
    "for marriage,freq in marriageCount.items():\n",
    "    \n",
    "    defaultRatioMarriageCount[marriage]=marriageIfDefaultCount[marriage]/marriageCount[marriage]\n",
    "    \n",
    "defaultRatioMarriageCount"
   ]
  },
  {
   "cell_type": "code",
   "execution_count": 50,
   "metadata": {},
   "outputs": [
    {
     "data": {
      "text/plain": [
       "(21.0, 79.0)"
      ]
     },
     "execution_count": 50,
     "metadata": {},
     "output_type": "execute_result"
    }
   ],
   "source": [
    "min(ageCount.keys()),max(ageCount.keys())"
   ]
  },
  {
   "cell_type": "code",
   "execution_count": 5,
   "metadata": {},
   "outputs": [],
   "source": [
    "# For Neural Network model\n",
    "\n",
    "client_input=[]\n",
    "client_output=[]\n",
    "\n",
    "for index,row in df_credit.iterrows():\n",
    "    \n",
    "    temp_input=[0]*21\n",
    "    \n",
    "    age=row['AGE']\n",
    "    gender=row['SEX']\n",
    "    \n",
    "    if gender==1:\n",
    "        temp_input[0]=1\n",
    "        \n",
    "    age_normalized=(age-min(ageCount.keys()))/(max(ageCount.keys())-min(ageCount.keys()))\n",
    "    temp_input[1]=age_normalized\n",
    "\n",
    "    education_index=row['EDUCATION']\n",
    "    marriage_index=row['MARRIAGE']\n",
    "    \n",
    "    temp_input[2+int(education_index)]=1\n",
    "    temp_input[9+int(marriage_index)]=1\n",
    "  \n",
    "    temp_input[13]=row['LIMIT_BAL']/1000000\n",
    "    \n",
    "    for k in range(0,7):\n",
    "        pay_status_index='PAY_'+str(k)\n",
    "        \n",
    "        pay_status=0\n",
    "        \n",
    "        if pay_status_index in row:\n",
    "            pay_status=row[pay_status_index]\n",
    "            \n",
    "        pay_status_normalized=(pay_status-(-2))/(8-(-2))\n",
    "        \n",
    "        temp_input[14+k]=pay_status_normalized\n",
    "        \n",
    "        #bill_amount_index='BILL_AMT'+str(k)\n",
    "        #pay_amount_index='PAY_AMT'+str(k)\n",
    "        \n",
    "        #bill=0\n",
    "        #pay=0\n",
    "        \n",
    "        #if pay_amount_index in row:\n",
    "            #pay=row[pay_amount_index]\n",
    "            \n",
    "        #if bill_amount_index in row:\n",
    "            #bill=row[bill_amount_index]\n",
    "            \n",
    "        #if bill!=0:\n",
    "            #payment_ratio=pay/bill\n",
    "        #else:\n",
    "            #payment_ratio=1\n",
    "        #temp_input[14+k]=payment_ratio\n",
    " \n",
    "    default=row['default.payment.next.month']\n",
    "        \n",
    "    client_input.append(temp_input)\n",
    "    client_output.append([default])"
   ]
  },
  {
   "cell_type": "code",
   "execution_count": 5,
   "metadata": {},
   "outputs": [],
   "source": [
    "#For Tree model\n",
    "\n",
    "client_input=[]\n",
    "client_output=[]\n",
    "\n",
    "for index,row in df_credit.iterrows():\n",
    "    \n",
    "    temp_input=[0]*19\n",
    "    \n",
    "    age=row['AGE']\n",
    "    gender=row['SEX']\n",
    "    \n",
    "    if gender==1:\n",
    "        temp_input[0]=1\n",
    "\n",
    "    temp_input[1]=age\n",
    "\n",
    "\n",
    "    temp_input[2]=row['EDUCATION']\n",
    "    temp_input[3]=row['MARRIAGE']\n",
    "  \n",
    "    temp_input[4]=row['LIMIT_BAL']\n",
    "    \n",
    "    for k in range(0,7):\n",
    "        pay_status_index='PAY_'+str(k)\n",
    "        \n",
    "        pay_status=0\n",
    "        \n",
    "        if pay_status_index in row:\n",
    "            pay_status=row[pay_status_index]\n",
    "\n",
    "        temp_input[5+k]=pay_status\n",
    "        \n",
    "        \n",
    "        bill_amount_index='BILL_AMT'+str(k)\n",
    "        pay_amount_index='PAY_AMT'+str(k)\n",
    "        \n",
    "        bill=0\n",
    "        pay=0\n",
    "        \n",
    "        if pay_amount_index in row:\n",
    "            pay=row[pay_amount_index]\n",
    "            \n",
    "        if bill_amount_index in row:\n",
    "            bill=row[bill_amount_index]\n",
    "            \n",
    "        if bill!=0:\n",
    "            payment_ratio=pay/bill\n",
    "        else:\n",
    "            payment_ratio=9999\n",
    "        temp_input[12+k]=payment_ratio\n",
    "        \n",
    "                \n",
    "    default=row['default.payment.next.month']\n",
    "        \n",
    "    client_input.append(temp_input)\n",
    "    client_output.append([default])"
   ]
  },
  {
   "cell_type": "code",
   "execution_count": 6,
   "metadata": {},
   "outputs": [],
   "source": [
    "client_input_np=np.array(client_input)\n",
    "client_output_np=np.array(client_output)"
   ]
  },
  {
   "cell_type": "code",
   "execution_count": 7,
   "metadata": {},
   "outputs": [],
   "source": [
    "from sklearn.model_selection import train_test_split\n",
    "client_input_train,client_input_test, client_output_train,client_output_test = train_test_split(client_input_np, client_output_np, test_size=0.1)"
   ]
  },
  {
   "cell_type": "code",
   "execution_count": 8,
   "metadata": {},
   "outputs": [
    {
     "data": {
      "text/plain": [
       "27000"
      ]
     },
     "execution_count": 8,
     "metadata": {},
     "output_type": "execute_result"
    }
   ],
   "source": [
    "len(client_input_train)"
   ]
  },
  {
   "cell_type": "code",
   "execution_count": 9,
   "metadata": {},
   "outputs": [
    {
     "name": "stderr",
     "output_type": "stream",
     "text": [
      "Using TensorFlow backend.\n",
      "C:\\Users\\vjib\\Anaconda3\\lib\\site-packages\\tensorflow\\python\\framework\\dtypes.py:526: FutureWarning: Passing (type, 1) or '1type' as a synonym of type is deprecated; in a future version of numpy, it will be understood as (type, (1,)) / '(1,)type'.\n",
      "  _np_qint8 = np.dtype([(\"qint8\", np.int8, 1)])\n",
      "C:\\Users\\vjib\\Anaconda3\\lib\\site-packages\\tensorflow\\python\\framework\\dtypes.py:527: FutureWarning: Passing (type, 1) or '1type' as a synonym of type is deprecated; in a future version of numpy, it will be understood as (type, (1,)) / '(1,)type'.\n",
      "  _np_quint8 = np.dtype([(\"quint8\", np.uint8, 1)])\n",
      "C:\\Users\\vjib\\Anaconda3\\lib\\site-packages\\tensorflow\\python\\framework\\dtypes.py:528: FutureWarning: Passing (type, 1) or '1type' as a synonym of type is deprecated; in a future version of numpy, it will be understood as (type, (1,)) / '(1,)type'.\n",
      "  _np_qint16 = np.dtype([(\"qint16\", np.int16, 1)])\n",
      "C:\\Users\\vjib\\Anaconda3\\lib\\site-packages\\tensorflow\\python\\framework\\dtypes.py:529: FutureWarning: Passing (type, 1) or '1type' as a synonym of type is deprecated; in a future version of numpy, it will be understood as (type, (1,)) / '(1,)type'.\n",
      "  _np_quint16 = np.dtype([(\"quint16\", np.uint16, 1)])\n",
      "C:\\Users\\vjib\\Anaconda3\\lib\\site-packages\\tensorflow\\python\\framework\\dtypes.py:530: FutureWarning: Passing (type, 1) or '1type' as a synonym of type is deprecated; in a future version of numpy, it will be understood as (type, (1,)) / '(1,)type'.\n",
      "  _np_qint32 = np.dtype([(\"qint32\", np.int32, 1)])\n",
      "C:\\Users\\vjib\\Anaconda3\\lib\\site-packages\\tensorflow\\python\\framework\\dtypes.py:535: FutureWarning: Passing (type, 1) or '1type' as a synonym of type is deprecated; in a future version of numpy, it will be understood as (type, (1,)) / '(1,)type'.\n",
      "  np_resource = np.dtype([(\"resource\", np.ubyte, 1)])\n"
     ]
    }
   ],
   "source": [
    "import keras\n",
    "from keras.models import Sequential\n",
    "from keras.layers import Dense\n",
    "import tensorflow as tf\n",
    "\n",
    "#config = tf.ConfigProto( device_count = {'GPU': 1 , 'CPU': 56} ) \n",
    "#sess = tf.Session(config=config) \n",
    "#keras.backend.set_session(sess)"
   ]
  },
  {
   "cell_type": "code",
   "execution_count": 10,
   "metadata": {},
   "outputs": [
    {
     "name": "stdout",
     "output_type": "stream",
     "text": [
      "WARNING:tensorflow:From C:\\Users\\vjib\\Anaconda3\\lib\\site-packages\\tensorflow\\python\\framework\\op_def_library.py:263: colocate_with (from tensorflow.python.framework.ops) is deprecated and will be removed in a future version.\n",
      "Instructions for updating:\n",
      "Colocations handled automatically by placer.\n"
     ]
    }
   ],
   "source": [
    "# Neural network\n",
    "model = Sequential()\n",
    "model.add(Dense(25, input_dim=len(client_input_train[0]), activation='relu'))\n",
    "model.add(Dense(25, activation='relu'))\n",
    "model.add(Dense(25, activation='relu'))\n",
    "model.add(Dense(len(client_output_train[0]), activation='sigmoid'))"
   ]
  },
  {
   "cell_type": "code",
   "execution_count": 11,
   "metadata": {},
   "outputs": [],
   "source": [
    "model.compile(loss='binary_crossentropy', optimizer='adam', metrics=['accuracy'])"
   ]
  },
  {
   "cell_type": "code",
   "execution_count": 12,
   "metadata": {},
   "outputs": [
    {
     "name": "stdout",
     "output_type": "stream",
     "text": [
      "WARNING:tensorflow:From C:\\Users\\vjib\\Anaconda3\\lib\\site-packages\\tensorflow\\python\\ops\\math_ops.py:3066: to_int32 (from tensorflow.python.ops.math_ops) is deprecated and will be removed in a future version.\n",
      "Instructions for updating:\n",
      "Use tf.cast instead.\n",
      "Epoch 1/50\n",
      "27000/27000 [==============================] - 8s 315us/step - loss: 0.4841 - acc: 0.7964\n",
      "Epoch 2/50\n",
      "27000/27000 [==============================] - 4s 145us/step - loss: 0.4549 - acc: 0.8124\n",
      "Epoch 3/50\n",
      "27000/27000 [==============================] - 4s 144us/step - loss: 0.4485 - acc: 0.8162\n",
      "Epoch 4/50\n",
      "27000/27000 [==============================] - 4s 142us/step - loss: 0.4455 - acc: 0.8173\n",
      "Epoch 5/50\n",
      "27000/27000 [==============================] - 4s 142us/step - loss: 0.4434 - acc: 0.8181\n",
      "Epoch 6/50\n",
      "27000/27000 [==============================] - 4s 142us/step - loss: 0.4423 - acc: 0.8181\n",
      "Epoch 7/50\n",
      "27000/27000 [==============================] - 4s 144us/step - loss: 0.4408 - acc: 0.8183\n",
      "Epoch 8/50\n",
      "27000/27000 [==============================] - 4s 142us/step - loss: 0.4397 - acc: 0.8199\n",
      "Epoch 9/50\n",
      "27000/27000 [==============================] - 4s 148us/step - loss: 0.4388 - acc: 0.8200\n",
      "Epoch 10/50\n",
      "27000/27000 [==============================] - 4s 136us/step - loss: 0.4383 - acc: 0.8207\n",
      "Epoch 11/50\n",
      "27000/27000 [==============================] - 4s 142us/step - loss: 0.4370 - acc: 0.8203\n",
      "Epoch 12/50\n",
      "27000/27000 [==============================] - 4s 140us/step - loss: 0.4366 - acc: 0.8208\n",
      "Epoch 13/50\n",
      "27000/27000 [==============================] - 4s 146us/step - loss: 0.4356 - acc: 0.8200\n",
      "Epoch 14/50\n",
      "27000/27000 [==============================] - 4s 144us/step - loss: 0.4349 - acc: 0.8202\n",
      "Epoch 15/50\n",
      "27000/27000 [==============================] - 4s 145us/step - loss: 0.4334 - acc: 0.8221\n",
      "Epoch 16/50\n",
      "27000/27000 [==============================] - 4s 144us/step - loss: 0.4341 - acc: 0.8218\n",
      "Epoch 17/50\n",
      "27000/27000 [==============================] - 4s 143us/step - loss: 0.4333 - acc: 0.8223\n",
      "Epoch 18/50\n",
      "27000/27000 [==============================] - 4s 157us/step - loss: 0.4328 - acc: 0.8217\n",
      "Epoch 19/50\n",
      "27000/27000 [==============================] - 4s 146us/step - loss: 0.4328 - acc: 0.8215\n",
      "Epoch 20/50\n",
      "27000/27000 [==============================] - 4s 145us/step - loss: 0.4326 - acc: 0.8219\n",
      "Epoch 21/50\n",
      "27000/27000 [==============================] - 4s 143us/step - loss: 0.4320 - acc: 0.8216\n",
      "Epoch 22/50\n",
      "27000/27000 [==============================] - 4s 154us/step - loss: 0.4312 - acc: 0.8219\n",
      "Epoch 23/50\n",
      "27000/27000 [==============================] - 5s 186us/step - loss: 0.4316 - acc: 0.8214\n",
      "Epoch 24/50\n",
      "27000/27000 [==============================] - 4s 142us/step - loss: 0.4311 - acc: 0.8226\n",
      "Epoch 25/50\n",
      "27000/27000 [==============================] - 5s 173us/step - loss: 0.4308 - acc: 0.8222\n",
      "Epoch 26/50\n",
      "27000/27000 [==============================] - 4s 151us/step - loss: 0.4307 - acc: 0.8232\n",
      "Epoch 27/50\n",
      "27000/27000 [==============================] - 5s 170us/step - loss: 0.4303 - acc: 0.8228\n",
      "Epoch 28/50\n",
      "27000/27000 [==============================] - 4s 145us/step - loss: 0.4300 - acc: 0.8230\n",
      "Epoch 29/50\n",
      "27000/27000 [==============================] - 4s 146us/step - loss: 0.4304 - acc: 0.8223\n",
      "Epoch 30/50\n",
      "27000/27000 [==============================] - 4s 145us/step - loss: 0.4295 - acc: 0.8231\n",
      "Epoch 31/50\n",
      "27000/27000 [==============================] - 4s 153us/step - loss: 0.4296 - acc: 0.8235\n",
      "Epoch 32/50\n",
      "27000/27000 [==============================] - 4s 144us/step - loss: 0.4292 - acc: 0.8225\n",
      "Epoch 33/50\n",
      "27000/27000 [==============================] - 4s 145us/step - loss: 0.4301 - acc: 0.8223\n",
      "Epoch 34/50\n",
      "27000/27000 [==============================] - 4s 141us/step - loss: 0.4290 - acc: 0.8225\n",
      "Epoch 35/50\n",
      "27000/27000 [==============================] - 4s 150us/step - loss: 0.4287 - acc: 0.8225\n",
      "Epoch 36/50\n",
      "27000/27000 [==============================] - 5s 170us/step - loss: 0.4283 - acc: 0.8233\n",
      "Epoch 37/50\n",
      "27000/27000 [==============================] - 4s 161us/step - loss: 0.4285 - acc: 0.8222\n",
      "Epoch 38/50\n",
      "27000/27000 [==============================] - 4s 140us/step - loss: 0.4288 - acc: 0.8232\n",
      "Epoch 39/50\n",
      "27000/27000 [==============================] - 4s 145us/step - loss: 0.4284 - acc: 0.8236\n",
      "Epoch 40/50\n",
      "27000/27000 [==============================] - 4s 149us/step - loss: 0.4282 - acc: 0.8230\n",
      "Epoch 41/50\n",
      "27000/27000 [==============================] - 4s 143us/step - loss: 0.4277 - acc: 0.8237\n",
      "Epoch 42/50\n",
      "27000/27000 [==============================] - 4s 147us/step - loss: 0.4276 - acc: 0.8241\n",
      "Epoch 43/50\n",
      "27000/27000 [==============================] - 4s 150us/step - loss: 0.4277 - acc: 0.8239\n",
      "Epoch 44/50\n",
      "27000/27000 [==============================] - 4s 143us/step - loss: 0.4283 - acc: 0.8233\n",
      "Epoch 45/50\n",
      "27000/27000 [==============================] - 4s 152us/step - loss: 0.4267 - acc: 0.8235\n",
      "Epoch 46/50\n",
      "27000/27000 [==============================] - 4s 143us/step - loss: 0.4272 - acc: 0.8226\n",
      "Epoch 47/50\n",
      "27000/27000 [==============================] - 4s 147us/step - loss: 0.4272 - acc: 0.8238\n",
      "Epoch 48/50\n",
      "27000/27000 [==============================] - 4s 143us/step - loss: 0.4271 - acc: 0.8236\n",
      "Epoch 49/50\n",
      "27000/27000 [==============================] - 4s 144us/step - loss: 0.4267 - acc: 0.8239\n",
      "Epoch 50/50\n",
      "27000/27000 [==============================] - 4s 142us/step - loss: 0.4264 - acc: 0.8249\n"
     ]
    }
   ],
   "source": [
    "history = model.fit(client_input_train,client_output_train, epochs=50, batch_size=32,verbose=1)"
   ]
  },
  {
   "cell_type": "code",
   "execution_count": 13,
   "metadata": {},
   "outputs": [
    {
     "name": "stdout",
     "output_type": "stream",
     "text": [
      "3000/3000 [==============================] - 0s 68us/step\n"
     ]
    },
    {
     "data": {
      "text/plain": [
       "[0.4415939870675405, 0.8156666665077209]"
      ]
     },
     "execution_count": 13,
     "metadata": {},
     "output_type": "execute_result"
    }
   ],
   "source": [
    "model.evaluate(client_input_test,client_output_test)"
   ]
  },
  {
   "cell_type": "code",
   "execution_count": 9,
   "metadata": {},
   "outputs": [
    {
     "name": "stderr",
     "output_type": "stream",
     "text": [
      "C:\\Users\\vjib\\Anaconda3\\lib\\site-packages\\ipykernel_launcher.py:8: DataConversionWarning: A column-vector y was passed when a 1d array was expected. Please change the shape of y to (n_samples,), for example using ravel().\n",
      "  \n"
     ]
    },
    {
     "data": {
      "text/plain": [
       "RandomForestClassifier(bootstrap=True, class_weight=None, criterion='gini',\n",
       "            max_depth=None, max_features='sqrt', max_leaf_nodes=None,\n",
       "            min_impurity_decrease=0.0, min_impurity_split=None,\n",
       "            min_samples_leaf=1, min_samples_split=2,\n",
       "            min_weight_fraction_leaf=0.0, n_estimators=1000, n_jobs=None,\n",
       "            oob_score=False, random_state=None, verbose=0,\n",
       "            warm_start=False)"
      ]
     },
     "execution_count": 9,
     "metadata": {},
     "output_type": "execute_result"
    }
   ],
   "source": [
    "from sklearn.ensemble import RandomForestClassifier\n",
    "\n",
    "# Create the model with 1000 trees\n",
    "model = RandomForestClassifier(n_estimators=1000, \n",
    "                               bootstrap = True,\n",
    "                               max_features = 'sqrt')\n",
    "# Fit on training data\n",
    "model.fit(client_input_train,client_output_train)"
   ]
  },
  {
   "cell_type": "code",
   "execution_count": 10,
   "metadata": {},
   "outputs": [
    {
     "name": "stdout",
     "output_type": "stream",
     "text": [
      "Model Accuracy: 0.9991851851851852\n"
     ]
    }
   ],
   "source": [
    "print(f'Model Accuracy: {model.score(client_input_train,client_output_train)}')"
   ]
  },
  {
   "cell_type": "code",
   "execution_count": 11,
   "metadata": {},
   "outputs": [
    {
     "name": "stdout",
     "output_type": "stream",
     "text": [
      "Model Accuracy: 0.8226666666666667\n"
     ]
    }
   ],
   "source": [
    "print(f'Model Accuracy: {model.score(client_input_test,client_output_test)}')"
   ]
  },
  {
   "cell_type": "code",
   "execution_count": 19,
   "metadata": {},
   "outputs": [
    {
     "name": "stdout",
     "output_type": "stream",
     "text": [
      "Model Precision: 0.99911773784483\n",
      "Model Recall: 0.9985216515865329\n"
     ]
    }
   ],
   "source": [
    "predicted=model.predict(client_input_train)\n",
    "\n",
    "precision=precision_score(client_output_train,predicted, average='macro')\n",
    "recall=recall_score(client_output_train,predicted, average='macro')\n",
    "\n",
    "print(f'Model Precision: {precision}')\n",
    "print(f'Model Recall: {recall}')"
   ]
  },
  {
   "cell_type": "code",
   "execution_count": 20,
   "metadata": {},
   "outputs": [
    {
     "name": "stdout",
     "output_type": "stream",
     "text": [
      "Model Precision: 0.7493878113648158\n",
      "Model Recall: 0.661803504212578\n"
     ]
    }
   ],
   "source": [
    "predicted=model.predict(client_input_test)\n",
    "\n",
    "precision=precision_score(client_output_test,predicted, average='macro')\n",
    "recall=recall_score(client_output_test,predicted, average='macro')\n",
    "\n",
    "print(f'Model Precision: {precision}')\n",
    "print(f'Model Recall: {recall}')"
   ]
  },
  {
   "cell_type": "code",
   "execution_count": 102,
   "metadata": {},
   "outputs": [],
   "source": [
    "# Actual class predictions\n",
    "rf_predictions = model.predict(client_input_test)\n",
    "# Probabilities for each class\n",
    "rf_probs = model.predict_proba(client_input_test)[:, 1]"
   ]
  },
  {
   "cell_type": "code",
   "execution_count": 103,
   "metadata": {},
   "outputs": [
    {
     "data": {
      "text/plain": [
       "array([0., 0., 0., ..., 1., 0., 0.])"
      ]
     },
     "execution_count": 103,
     "metadata": {},
     "output_type": "execute_result"
    }
   ],
   "source": [
    "rf_predictions"
   ]
  },
  {
   "cell_type": "code",
   "execution_count": 104,
   "metadata": {},
   "outputs": [
    {
     "data": {
      "text/plain": [
       "array([0.075     , 0.317     , 0.067     , ..., 0.712     , 0.02191667,\n",
       "       0.077     ])"
      ]
     },
     "execution_count": 104,
     "metadata": {},
     "output_type": "execute_result"
    }
   ],
   "source": [
    "rf_probs"
   ]
  },
  {
   "cell_type": "code",
   "execution_count": 105,
   "metadata": {},
   "outputs": [
    {
     "name": "stdout",
     "output_type": "stream",
     "text": [
      "0.7583851333851334\n"
     ]
    }
   ],
   "source": [
    "from sklearn.metrics import roc_auc_score\n",
    "\n",
    "# Calculate roc auc\n",
    "roc_value = roc_auc_score(client_output_test, rf_probs)\n",
    "\n",
    "print(roc_value)"
   ]
  },
  {
   "cell_type": "code",
   "execution_count": 29,
   "metadata": {},
   "outputs": [
    {
     "name": "stderr",
     "output_type": "stream",
     "text": [
      "C:\\Users\\vjib\\Anaconda3\\lib\\site-packages\\sklearn\\utils\\validation.py:761: DataConversionWarning: A column-vector y was passed when a 1d array was expected. Please change the shape of y to (n_samples, ), for example using ravel().\n",
      "  y = column_or_1d(y, warn=True)\n"
     ]
    },
    {
     "data": {
      "text/plain": [
       "GradientBoostingClassifier(criterion='friedman_mse', init=None,\n",
       "              learning_rate=0.05, loss='deviance', max_depth=3,\n",
       "              max_features=None, max_leaf_nodes=None,\n",
       "              min_impurity_decrease=0.0, min_impurity_split=None,\n",
       "              min_samples_leaf=1, min_samples_split=2,\n",
       "              min_weight_fraction_leaf=0.0, n_estimators=5000,\n",
       "              n_iter_no_change=None, presort='auto', random_state=None,\n",
       "              subsample=1.0, tol=0.0001, validation_fraction=0.1,\n",
       "              verbose=0, warm_start=False)"
      ]
     },
     "execution_count": 29,
     "metadata": {},
     "output_type": "execute_result"
    }
   ],
   "source": [
    "from sklearn.ensemble import GradientBoostingClassifier\n",
    "\n",
    "model = GradientBoostingClassifier(n_estimators=5000,learning_rate=0.05)\n",
    "\n",
    "model.fit(client_input_train,client_output_train)"
   ]
  },
  {
   "cell_type": "code",
   "execution_count": 30,
   "metadata": {},
   "outputs": [
    {
     "name": "stdout",
     "output_type": "stream",
     "text": [
      "Model Accuracy: 0.8797037037037037\n"
     ]
    }
   ],
   "source": [
    "print(f'Model Accuracy: {model.score(client_input_train,client_output_train)}')"
   ]
  },
  {
   "cell_type": "code",
   "execution_count": 31,
   "metadata": {},
   "outputs": [
    {
     "name": "stdout",
     "output_type": "stream",
     "text": [
      "Model Accuracy: 0.8176666666666667\n"
     ]
    }
   ],
   "source": [
    "print(f'Model Accuracy: {model.score(client_input_test,client_output_test)}')"
   ]
  },
  {
   "cell_type": "code",
   "execution_count": 32,
   "metadata": {},
   "outputs": [
    {
     "name": "stdout",
     "output_type": "stream",
     "text": [
      "Model Precision: 0.8727443793533283\n",
      "Model Recall: 0.7597330629583336\n"
     ]
    }
   ],
   "source": [
    "predicted=model.predict(client_input_train)\n",
    "\n",
    "precision=precision_score(client_output_train,predicted, average='macro')\n",
    "recall=recall_score(client_output_train,predicted, average='macro')\n",
    "\n",
    "print(f'Model Precision: {precision}')\n",
    "print(f'Model Recall: {recall}')"
   ]
  },
  {
   "cell_type": "code",
   "execution_count": 33,
   "metadata": {},
   "outputs": [
    {
     "name": "stdout",
     "output_type": "stream",
     "text": [
      "Model Precision: 0.737876325627913\n",
      "Model Recall: 0.6546863122121361\n"
     ]
    }
   ],
   "source": [
    "predicted=model.predict(client_input_test)\n",
    "\n",
    "precision=precision_score(client_output_test,predicted, average='macro')\n",
    "recall=recall_score(client_output_test,predicted, average='macro')\n",
    "\n",
    "print(f'Model Precision: {precision}')\n",
    "print(f'Model Recall: {recall}')"
   ]
  },
  {
   "cell_type": "code",
   "execution_count": 34,
   "metadata": {},
   "outputs": [
    {
     "name": "stderr",
     "output_type": "stream",
     "text": [
      "C:\\Users\\vjib\\Anaconda3\\lib\\site-packages\\sklearn\\preprocessing\\label.py:219: DataConversionWarning: A column-vector y was passed when a 1d array was expected. Please change the shape of y to (n_samples, ), for example using ravel().\n",
      "  y = column_or_1d(y, warn=True)\n",
      "C:\\Users\\vjib\\Anaconda3\\lib\\site-packages\\sklearn\\preprocessing\\label.py:252: DataConversionWarning: A column-vector y was passed when a 1d array was expected. Please change the shape of y to (n_samples, ), for example using ravel().\n",
      "  y = column_or_1d(y, warn=True)\n"
     ]
    },
    {
     "data": {
      "text/plain": [
       "XGBClassifier(base_score=0.5, booster='gbtree', colsample_bylevel=1,\n",
       "       colsample_bynode=1, colsample_bytree=1, gamma=0, learning_rate=0.1,\n",
       "       max_delta_step=0, max_depth=3, min_child_weight=1, missing=None,\n",
       "       n_estimators=1000, n_jobs=1, nthread=None,\n",
       "       objective='binary:logistic', random_state=0, reg_alpha=0,\n",
       "       reg_lambda=1, scale_pos_weight=1, seed=None, silent=None,\n",
       "       subsample=1, verbosity=1)"
      ]
     },
     "execution_count": 34,
     "metadata": {},
     "output_type": "execute_result"
    }
   ],
   "source": [
    "from xgboost import XGBClassifier\n",
    "\n",
    "model = XGBClassifier(n_estimators=1000)\n",
    "model.fit(client_input_train,client_output_train)"
   ]
  },
  {
   "cell_type": "code",
   "execution_count": 35,
   "metadata": {},
   "outputs": [
    {
     "name": "stdout",
     "output_type": "stream",
     "text": [
      "Model Accuracy: 0.8402592592592593\n"
     ]
    }
   ],
   "source": [
    "print(f'Model Accuracy: {model.score(client_input_train,client_output_train)}')"
   ]
  },
  {
   "cell_type": "code",
   "execution_count": 36,
   "metadata": {},
   "outputs": [
    {
     "name": "stdout",
     "output_type": "stream",
     "text": [
      "Model Accuracy: 0.82\n"
     ]
    }
   ],
   "source": [
    "print(f'Model Accuracy: {model.score(client_input_test,client_output_test)}')"
   ]
  },
  {
   "cell_type": "code",
   "execution_count": 37,
   "metadata": {},
   "outputs": [
    {
     "name": "stdout",
     "output_type": "stream",
     "text": [
      "Model Precision: 0.7995844143588697\n",
      "Model Recall: 0.6920192626295293\n"
     ]
    }
   ],
   "source": [
    "predicted=model.predict(client_input_train)\n",
    "\n",
    "precision=precision_score(client_output_train,predicted, average='macro')\n",
    "recall=recall_score(client_output_train,predicted, average='macro')\n",
    "\n",
    "print(f'Model Precision: {precision}')\n",
    "print(f'Model Recall: {recall}')"
   ]
  },
  {
   "cell_type": "code",
   "execution_count": 38,
   "metadata": {},
   "outputs": [
    {
     "name": "stdout",
     "output_type": "stream",
     "text": [
      "Model Precision: 0.7456726113195099\n",
      "Model Recall: 0.6528036067979935\n"
     ]
    }
   ],
   "source": [
    "predicted=model.predict(client_input_test)\n",
    "\n",
    "precision=precision_score(client_output_test,predicted, average='macro')\n",
    "recall=recall_score(client_output_test,predicted, average='macro')\n",
    "\n",
    "print(f'Model Precision: {precision}')\n",
    "print(f'Model Recall: {recall}')"
   ]
  },
  {
   "cell_type": "code",
   "execution_count": null,
   "metadata": {},
   "outputs": [],
   "source": []
  }
 ],
 "metadata": {
  "kernelspec": {
   "display_name": "Python 3",
   "language": "python",
   "name": "python3"
  },
  "language_info": {
   "codemirror_mode": {
    "name": "ipython",
    "version": 3
   },
   "file_extension": ".py",
   "mimetype": "text/x-python",
   "name": "python",
   "nbconvert_exporter": "python",
   "pygments_lexer": "ipython3",
   "version": "3.7.1"
  }
 },
 "nbformat": 4,
 "nbformat_minor": 2
}
